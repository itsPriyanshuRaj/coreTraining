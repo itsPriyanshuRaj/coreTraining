{
 "cells": [
  {
   "cell_type": "code",
   "execution_count": null,
   "id": "84b0990d",
   "metadata": {},
   "outputs": [],
   "source": [
    "'''\n",
    "1. Write a code to sort the DataFrame by age in descending order and display the result.\n",
    "2. Write a function that takes a gender ('Male' or 'Female') as \n",
    "input and returns the count of individuals of that gender in the DataFrame.\n",
    "3. Calculate and print the percentage of males and females in the DataFrame.\n",
    "4. Calculate and print the percentage of males and females in the DataFrame\n",
    "'''"
   ]
  },
  {
   "cell_type": "code",
   "execution_count": 2,
   "id": "f031d470",
   "metadata": {},
   "outputs": [],
   "source": [
    "df.sort_values(by='Age',ascending=False) #1st Answer"
   ]
  },
  {
   "cell_type": "code",
   "execution_count": null,
   "id": "e4548fb0",
   "metadata": {},
   "outputs": [],
   "source": [
    "#2nd answer"
   ]
  },
  {
   "cell_type": "code",
   "execution_count": null,
   "id": "9cc89c77",
   "metadata": {},
   "outputs": [],
   "source": [
    "#3rd answer\n",
    "df['Gender'].value_counts(\"Gender\")*100"
   ]
  }
 ],
 "metadata": {
  "kernelspec": {
   "display_name": "Python 3 (ipykernel)",
   "language": "python",
   "name": "python3"
  },
  "language_info": {
   "codemirror_mode": {
    "name": "ipython",
    "version": 3
   },
   "file_extension": ".py",
   "mimetype": "text/x-python",
   "name": "python",
   "nbconvert_exporter": "python",
   "pygments_lexer": "ipython3",
   "version": "3.11.4"
  }
 },
 "nbformat": 4,
 "nbformat_minor": 5
}
